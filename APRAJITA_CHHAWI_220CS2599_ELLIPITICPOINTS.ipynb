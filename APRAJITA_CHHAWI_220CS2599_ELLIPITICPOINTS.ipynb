{
 "cells": [
  {
   "cell_type": "code",
   "execution_count": 1,
   "metadata": {},
   "outputs": [],
   "source": [
    "def set_zp(p):\n",
    "    l=[]\n",
    "    for i in range(1,p):\n",
    "        l.append(i)\n",
    "    return l"
   ]
  },
  {
   "cell_type": "code",
   "execution_count": 2,
   "metadata": {},
   "outputs": [],
   "source": [
    "def set_zp_sqrt(num,p):\n",
    "    num=num%p\n",
    "    for i in range(0,p):\n",
    "         if ((i * i) % p == num) : \n",
    "            return i"
   ]
  },
  {
   "cell_type": "code",
   "execution_count": 3,
   "metadata": {},
   "outputs": [],
   "source": [
    "def set_zp_square(p):\n",
    "    l=set()\n",
    "    l3=set_zp(p)\n",
    "    for i in range(0,p):\n",
    "        temp=0\n",
    "        temp=(i*i)%p\n",
    "        l.add(temp)\n",
    "    return l"
   ]
  },
  {
   "cell_type": "code",
   "execution_count": 4,
   "metadata": {},
   "outputs": [
    {
     "name": "stdout",
     "output_type": "stream",
     "text": [
      "0 1\n",
      "0 12\n",
      "1 4\n",
      "1 9\n",
      "4 2\n",
      "4 11\n",
      "5 1\n",
      "5 12\n",
      "7 0\n",
      "7 0\n",
      "8 1\n",
      "8 12\n",
      "10 6\n",
      "10 7\n",
      "11 2\n",
      "11 11\n",
      "12 5\n",
      "12 8\n"
     ]
    }
   ],
   "source": [
    "import math\n",
    "from math import ceil\n",
    "def ellipitic_points(p,a,b):\n",
    "    x=0\n",
    "    while(x<p):\n",
    "        w=int((math.pow(x,3)+a*x+b)%p)\n",
    "        l1=set_zp_square(p)\n",
    "        l2=set_zp(p)\n",
    "        if(w in l1):\n",
    "            k=set_zp_sqrt(w,p)\n",
    "            if(k==0):\n",
    "                print(x,k)\n",
    "                print(x,k)\n",
    "            else:\n",
    "                print(x,k)\n",
    "                print(x,p-k)\n",
    "        x=x+1\n",
    "ellipitic_points(13,1,1)"
   ]
  },
  {
   "cell_type": "code",
   "execution_count": 5,
   "metadata": {},
   "outputs": [],
   "source": [
    "def findModularInverse(a, mod):\n",
    "    while(a < 0):\n",
    "        a = a + mod\n",
    "    x1 = 1; x2 = 0; x3 = mod\n",
    "    y1 = 0; y2 = 1; y3 = a\n",
    "    q = int(x3 / y3)\n",
    "    t1 = x1 - q*y1\n",
    "    t2 = x2 - q*y2\n",
    "    t3 = x3 - (q*y3)\n",
    "    while(y3 != 1):\n",
    "        x1 = y1; x2 = y2; x3 = y3\n",
    "        y1 = t1; y2 = t2; y3 = t3\n",
    "        q = int(x3 / y3)\n",
    "        t1 = x1 - q*y1\n",
    "        t2 = x2 - q*y2\n",
    "        t3 = x3 - (q*y3)\n",
    "    while(y2 < 0):\n",
    "        y2 = y2 + mod\n",
    "    return y2"
   ]
  },
  {
   "cell_type": "code",
   "execution_count": 6,
   "metadata": {},
   "outputs": [
    {
     "data": {
      "text/plain": [
       "(0, 12)"
      ]
     },
     "execution_count": 6,
     "metadata": {},
     "output_type": "execute_result"
    }
   ],
   "source": [
    "def diff_pointAddition(x1, y1, x2, y2, a, b, mod):\n",
    "    beta = (y2 - y1)*(findModularInverse((x2 - x1), mod))\n",
    "    x3 = beta*beta - x1 - x2\n",
    "    y3 = beta*(x1 - x3) - y1\n",
    "    x3 = x3 % mod\n",
    "    y3 = y3 % mod\n",
    "    while(x3 < 0):\n",
    "        x3 = x3 + mod\n",
    "    while(y3 < 0):\n",
    "        y3 = y3 + mod\n",
    "    return x3, y3\n",
    "diff_pointAddition(1,4,8,12,1,1,13)"
   ]
  },
  {
   "cell_type": "code",
   "execution_count": 7,
   "metadata": {},
   "outputs": [
    {
     "data": {
      "text/plain": [
       "(8, 12)"
      ]
     },
     "execution_count": 7,
     "metadata": {},
     "output_type": "execute_result"
    }
   ],
   "source": [
    "def same_pointAddition(x1, y1,a, b, mod):\n",
    "    beta = (3*x1*x1 + a) * (findModularInverse(2*y1, mod))\n",
    "    x3 = beta*beta - x1 - x1\n",
    "    y3 = beta*(x1 - x3) - y1\n",
    "    x3 = x3 % mod\n",
    "    y3 = y3 % mod\n",
    "    while(x3 < 0):\n",
    "        x3 = x3 + mod\n",
    "    while(y3 < 0):\n",
    "        y3 = y3 + mod\n",
    "    return x3, y3\n",
    "same_pointAddition(1,4,1,1,13)"
   ]
  },
  {
   "cell_type": "code",
   "execution_count": 8,
   "metadata": {},
   "outputs": [],
   "source": [
    "def Scalar_multiplication(d,x1,y1,a,b,mod):\n",
    "    xi=0\n",
    "    yi=0\n",
    "    d=d-1\n",
    "    xi,yi=same_pointAddition(x1, y1,a, b, mod)\n",
    "    print(xi,yi)\n",
    "    while(d>1):\n",
    "        if(x1==xi and y1==yi):\n",
    "            d=d-1\n",
    "            xi,yi=same_pointAddition(x1, y1,a, b, mod)\n",
    "            print(xi,yi)\n",
    "        else:\n",
    "            d=d-1\n",
    "            xi,yi=diff_pointAddition(x1, y1, xi, yi, a, b, mod)\n",
    "            print(xi,yi)\n",
    "            x1=xi\n",
    "            y1=yi"
   ]
  },
  {
   "cell_type": "code",
   "execution_count": 9,
   "metadata": {},
   "outputs": [
    {
     "name": "stdout",
     "output_type": "stream",
     "text": [
      "8 12\n",
      "0 12\n",
      "10 6\n",
      "7 0\n"
     ]
    }
   ],
   "source": [
    "Scalar_multiplication(5,1,4,1,1,13)"
   ]
  }
 ],
 "metadata": {
  "kernelspec": {
   "display_name": "Python 3",
   "language": "python",
   "name": "python3"
  },
  "language_info": {
   "codemirror_mode": {
    "name": "ipython",
    "version": 3
   },
   "file_extension": ".py",
   "mimetype": "text/x-python",
   "name": "python",
   "nbconvert_exporter": "python",
   "pygments_lexer": "ipython3",
   "version": "3.7.4"
  }
 },
 "nbformat": 4,
 "nbformat_minor": 2
}
