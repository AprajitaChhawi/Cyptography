{
 "cells": [
  {
   "cell_type": "code",
   "execution_count": 1,
   "metadata": {},
   "outputs": [],
   "source": [
    "def majority(x,y,z):\n",
    "    maj= (x & y)^(y & z)^(z & x)\n",
    "    return maj"
   ]
  },
  {
   "cell_type": "code",
   "execution_count": 2,
   "metadata": {},
   "outputs": [],
   "source": [
    "def conditional(x,y,z):\n",
    "    cond=(x & y) ^ (~x & z)\n",
    "    return cond\n"
   ]
  },
  {
   "cell_type": "code",
   "execution_count": 3,
   "metadata": {},
   "outputs": [],
   "source": [
    "def rotr(x, y):\n",
    "    return ((x >> y) | (x << (64-y))) & 0xFFFFFFFFFFFFFFFF\n"
   ]
  },
  {
   "cell_type": "code",
   "execution_count": 4,
   "metadata": {},
   "outputs": [],
   "source": [
    "def rotate(x):\n",
    "    x=x[28:]+x[:28]\n",
    "    y=x[34:]+x[:34]\n",
    "    z=x[39:]+x[:39]\n",
    "    rot= x^y^z\n",
    "    return rot"
   ]
  },
  {
   "cell_type": "code",
   "execution_count": 5,
   "metadata": {},
   "outputs": [],
   "source": [
    "def addition_modulo(x, y):\n",
    "    x = (x+y) % (2**64)\n",
    "    return x"
   ]
  },
  {
   "cell_type": "code",
   "execution_count": 6,
   "metadata": {},
   "outputs": [],
   "source": [
    "def decimalToBinary(num, k_prec) : \n",
    "  \n",
    "    binary = \"\"  \n",
    "  \n",
    "    Integral = int(num)  \n",
    "    fractional = num - Integral \n",
    "\n",
    "    while (Integral) : \n",
    "          \n",
    "        rem = Integral % 2 \n",
    "        binary += str(rem);  \n",
    "  \n",
    "        Integral //= 2\n",
    "      \n",
    "    binary = binary[ : : -1]  \n",
    " \n",
    "    binary += '.'\n",
    "  \n",
    "    while (k_prec) : \n",
    "          \n",
    "        fractional *= 2\n",
    "        fract_bit = int(fractional)  \n",
    "  \n",
    "        if (fract_bit == 1) : \n",
    "              \n",
    "            fractional -= fract_bit  \n",
    "            binary += '1'\n",
    "              \n",
    "        else : \n",
    "            binary += '0'\n",
    "  \n",
    "        k_prec -= 1\n",
    "  \n",
    "    return binary  "
   ]
  },
  {
   "cell_type": "code",
   "execution_count": 7,
   "metadata": {},
   "outputs": [],
   "source": [
    "primes = [2,3,5,7,11,13,17,19]\n",
    "\n",
    "sq_roots = [value**0.5 for value in primes]\n",
    "sq_roots_float = [value - int(value) for value in sq_roots]\n",
    "\n",
    "# now convert to decimal\n",
    "bin_val = [decimalToBinary(value, 64) for value in sq_roots_float]\n",
    "bin_val = [value[1:] for value in bin_val]"
   ]
  },
  {
   "cell_type": "code",
   "execution_count": 8,
   "metadata": {},
   "outputs": [
    {
     "data": {
      "text/plain": [
       "['0110101000001001111001100110011111110011101111001101000000000000',\n",
       " '1011101101100111101011101000010110000100110010101010000000000000',\n",
       " '0011110001101110111100110111001011111110100101010000000000000000',\n",
       " '1010010101001111111101010011101001011111000111010100000000000000',\n",
       " '0101000100001110010100100111111110101101111001101000000000000000',\n",
       " '1001101100000101011010001000110000101011001111100110000000000000',\n",
       " '0001111110000011110110011010101111111011010000011100000000000000',\n",
       " '0101101111100000110011010001100100010011011111100100000000000000']"
      ]
     },
     "execution_count": 8,
     "metadata": {},
     "output_type": "execute_result"
    }
   ],
   "source": [
    "bin_val"
   ]
  },
  {
   "cell_type": "code",
   "execution_count": 9,
   "metadata": {},
   "outputs": [
    {
     "name": "stdout",
     "output_type": "stream",
     "text": [
      "values before round 1\n",
      "0x6a09e667f3bcd000\n",
      "0xbb67ae8584caa000\n",
      "0x3c6ef372fe950000\n",
      "0xa54ff53a5f1d4000\n",
      "0x510e527fade68000\n",
      "0x9b05688c2b3e6000\n",
      "0x1f83d9abfb41c000\n",
      "0x5be0cd19137e4000\n"
     ]
    }
   ],
   "source": [
    "a=bin_val[0]\n",
    "b=bin_val[1]\n",
    "c=bin_val[2]\n",
    "d=bin_val[3]\n",
    "e=bin_val[4]\n",
    "f=bin_val[5]\n",
    "g=bin_val[6]\n",
    "h=bin_val[7]\n",
    "print(\"values before round 1\")\n",
    "print(hex(int(a, 2)))\n",
    "print(hex(int(b, 2)))\n",
    "print(hex(int(c, 2)))\n",
    "print(hex(int(d, 2)))\n",
    "print(hex(int(e, 2)))\n",
    "print(hex(int(f, 2)))\n",
    "print(hex(int(g, 2)))\n",
    "print(hex(int(h, 2)))"
   ]
  },
  {
   "cell_type": "code",
   "execution_count": 10,
   "metadata": {},
   "outputs": [
    {
     "name": "stdout",
     "output_type": "stream",
     "text": [
      "0100001010001010001011111001100011010111001010001011000000000000\n"
     ]
    }
   ],
   "source": [
    "a1=2\n",
    "cube_root=a1**(1/3)\n",
    "cube_root_float=cube_root-int(cube_root)\n",
    "k_bin=decimalToBinary(cube_root_float,64)\n",
    "k_bin=k_bin[1:]\n",
    "print(k_bin)"
   ]
  },
  {
   "cell_type": "code",
   "execution_count": 11,
   "metadata": {},
   "outputs": [],
   "source": [
    "w=1101010000010011110011001100111111100111011110011010000000000000\n",
    "s0 = rotr(int(a), 28)^ rotr(int(a), 34) ^ rotr(int(a), 39)\n",
    "maj = majority(int(a),int(b),int(c))\n",
    "t2 = addition_modulo(int(s0),maj)\n",
    "s1 = rotr(int(e), 14) ^ rotr(int(e), 18) ^ rotr(int(e), 41)\n",
    "ch = conditional(int(e),int(f),int(g))\n",
    "t1 = addition_modulo(addition_modulo(addition_modulo(addition_modulo(int(h),int(s1)),int(ch)),int(k_bin)),w)\n",
    "\n",
    "\n",
    "h = g\n",
    "g = f\n",
    "f = e\n",
    "e = bin((int(d) + t1) & 0xFFFFFFFFFFFFFFFF)\n",
    "d = c\n",
    "c = b\n",
    "b = a\n",
    "a = bin((t1 + t2) & 0xFFFFFFFFFFFFFFFF)"
   ]
  },
  {
   "cell_type": "code",
   "execution_count": 12,
   "metadata": {},
   "outputs": [
    {
     "name": "stdout",
     "output_type": "stream",
     "text": [
      "0b11101010001111001101011001100111100100101001100111100010111101\n"
     ]
    }
   ],
   "source": [
    "print(a)"
   ]
  },
  {
   "cell_type": "code",
   "execution_count": 13,
   "metadata": {},
   "outputs": [
    {
     "name": "stdout",
     "output_type": "stream",
     "text": [
      "0110101000001001111001100110011111110011101111001101000000000000\n"
     ]
    }
   ],
   "source": [
    "print(b)"
   ]
  },
  {
   "cell_type": "code",
   "execution_count": 14,
   "metadata": {},
   "outputs": [
    {
     "name": "stdout",
     "output_type": "stream",
     "text": [
      "1011101101100111101011101000010110000100110010101010000000000000\n"
     ]
    }
   ],
   "source": [
    "print(c)"
   ]
  },
  {
   "cell_type": "code",
   "execution_count": 15,
   "metadata": {},
   "outputs": [
    {
     "name": "stdout",
     "output_type": "stream",
     "text": [
      "0011110001101110111100110111001011111110100101010000000000000000\n"
     ]
    }
   ],
   "source": [
    "print(d)"
   ]
  },
  {
   "cell_type": "code",
   "execution_count": 16,
   "metadata": {},
   "outputs": [
    {
     "name": "stdout",
     "output_type": "stream",
     "text": [
      "0b100001111110010111101111100010101010100001111011100110101011010\n"
     ]
    }
   ],
   "source": [
    "print(e)"
   ]
  },
  {
   "cell_type": "code",
   "execution_count": 17,
   "metadata": {},
   "outputs": [
    {
     "name": "stdout",
     "output_type": "stream",
     "text": [
      "0101000100001110010100100111111110101101111001101000000000000000\n"
     ]
    }
   ],
   "source": [
    "print(f)"
   ]
  },
  {
   "cell_type": "code",
   "execution_count": 18,
   "metadata": {},
   "outputs": [
    {
     "name": "stdout",
     "output_type": "stream",
     "text": [
      "1001101100000101011010001000110000101011001111100110000000000000\n"
     ]
    }
   ],
   "source": [
    "print(g)"
   ]
  },
  {
   "cell_type": "code",
   "execution_count": 19,
   "metadata": {},
   "outputs": [
    {
     "name": "stdout",
     "output_type": "stream",
     "text": [
      "0001111110000011110110011010101111111011010000011100000000000000\n"
     ]
    }
   ],
   "source": [
    "print(h)"
   ]
  },
  {
   "cell_type": "code",
   "execution_count": 20,
   "metadata": {},
   "outputs": [
    {
     "name": "stdout",
     "output_type": "stream",
     "text": [
      "Values after round 1\n",
      "0x3a8f3599e4a678bd\n",
      "0x6a09e667f3bcd000\n",
      "0xbb67ae8584caa000\n",
      "0x3c6ef372fe950000\n",
      "0x43f2f7c5543dcd5a\n",
      "0x510e527fade68000\n",
      "0x9b05688c2b3e6000\n",
      "0x1f83d9abfb41c000\n"
     ]
    }
   ],
   "source": [
    "print(\"Values after round 1\")\n",
    "print(hex(int(a, 2)))\n",
    "print(hex(int(b, 2)))\n",
    "print(hex(int(c, 2)))\n",
    "print(hex(int(d, 2)))\n",
    "print(hex(int(e, 2)))\n",
    "print(hex(int(f, 2)))\n",
    "print(hex(int(g, 2)))\n",
    "print(hex(int(h, 2)))"
   ]
  },
  {
   "cell_type": "code",
   "execution_count": null,
   "metadata": {},
   "outputs": [],
   "source": []
  }
 ],
 "metadata": {
  "kernelspec": {
   "display_name": "Python 3",
   "language": "python",
   "name": "python3"
  },
  "language_info": {
   "codemirror_mode": {
    "name": "ipython",
    "version": 3
   },
   "file_extension": ".py",
   "mimetype": "text/x-python",
   "name": "python",
   "nbconvert_exporter": "python",
   "pygments_lexer": "ipython3",
   "version": "3.7.4"
  }
 },
 "nbformat": 4,
 "nbformat_minor": 2
}
